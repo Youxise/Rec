{
 "cells": [
  {
   "cell_type": "code",
   "execution_count": null,
   "metadata": {},
   "outputs": [],
   "source": [
    "# This file was created to generate all the tables of the database\n",
    "import pandas as pd\n",
    "from sqlalchemy import create_engine\n",
    "\n",
    "# Configuration PostgreSQL\n",
    "DB_USER = \"postgres\"\n",
    "DB_PASSWORD = \"youx123\"\n",
    "DB_HOST = \"localhost\"\n",
    "DB_PORT = \"5432\"\n",
    "DB_NAME = \"rec_db\"\n",
    "\n",
    "# Connect to DB\n",
    "engine = create_engine(f\"postgresql://{DB_USER}:{DB_PASSWORD}@{DB_HOST}:{DB_PORT}/{DB_NAME}\", pool_recycle=3600)\n",
    "\n",
    "# Replace by your db credentials and your paths\n",
    "\n",
    "print(\"1\")\n",
    "\n",
    "df1 = pd.read_csv(r\"C:\\Users\\etudiant\\Desktop\\URCA M1 IA\\URCA M1 IA\\BDA\\Rec\\data\\Animes-Dataset-cleaned.csv\")\n",
    "df1.to_sql('anime_metadata', engine, if_exists='replace', index=False)\n",
    "\n",
    "print(\"2\")\n",
    "\n",
    "df2 = pd.read_csv(r\"C:\\Users\\etudiant\\Desktop\\URCA M1 IA\\URCA M1 IA\\BDA\\Rec\\data\\Animes-Dataset-preprocessed.csv\")\n",
    "df2.to_sql('anime_metadata_pp', engine, if_exists='replace', index=False)\n",
    "\n",
    "print(\"3\")\n",
    "\n",
    "df3 = pd.read_csv(r\"C:\\Users\\etudiant\\Desktop\\URCA M1 IA\\URCA M1 IA\\BDA\\Rec\\data\\Rating-Dataset.csv\")\n",
    "df3.to_sql('anime_transactions', engine, if_exists='replace', index=False)\n",
    "\n",
    "print(\"4\")\n",
    "\n",
    "df4 = pd.read_csv(r\"C:\\Users\\etudiant\\Desktop\\URCA M1 IA\\URCA M1 IA\\BDA\\Rec\\data\\Association-rules.csv\")\n",
    "df4.to_sql('association_rules', engine, if_exists='replace', index=False)"
   ]
  }
 ],
 "metadata": {
  "kernelspec": {
   "display_name": "Python 3",
   "language": "python",
   "name": "python3"
  },
  "language_info": {
   "name": "python",
   "version": "3.10.0"
  }
 },
 "nbformat": 4,
 "nbformat_minor": 2
}
