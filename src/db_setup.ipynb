{
 "cells": [
  {
   "cell_type": "code",
   "execution_count": null,
   "metadata": {},
   "outputs": [],
   "source": [
    "# This file was created to generate all the tables of the database\n",
    "import pandas as pd\n",
    "import psycopg2\n",
    "import os\n",
    "\n",
    "\n",
    "# Connect to DB\n",
    "engine = psycopg2.connect(\n",
    "        host=\"localhost\",  # Usually 'localhost' or the actual database server address\n",
    "        database=\"rec_db\",  # The name of your PostgreSQL database\n",
    "        user=os.getenv(\"DB_USER\"),  # Your PostgreSQL username\n",
    "        password=os.getenv(\"DB_PASSWORD\")  # Your PostgreSQL password\n",
    "    )\n",
    "# Replace by your db credentials and your paths\n",
    "\n",
    "print(\"1\")\n",
    "\n",
    "df1 = pd.read_csv(r\"C:\\Users\\etudiant\\Desktop\\URCA M1 IA\\URCA M1 IA\\BDA\\Rec\\data\\Animes-Dataset-cleaned.csv\")\n",
    "df1.to_sql('anime_metadata', engine, if_exists='replace', index=False)\n",
    "\n",
    "print(\"2\")\n",
    "\n",
    "df2 = pd.read_csv(r\"C:\\Users\\etudiant\\Desktop\\URCA M1 IA\\URCA M1 IA\\BDA\\Rec\\data\\Animes-Dataset-preprocessed.csv\")\n",
    "df2.to_sql('anime_metadata_pp', engine, if_exists='replace', index=False)\n",
    "\n",
    "print(\"3\")\n",
    "\n",
    "df3 = pd.read_csv(r\"C:\\Users\\etudiant\\Desktop\\URCA M1 IA\\URCA M1 IA\\BDA\\Rec\\data\\Rating-Dataset.csv\")\n",
    "df3.to_sql('anime_transactions', engine, if_exists='replace', index=False)\n",
    "\n",
    "print(\"4\")\n",
    "\n",
    "df4 = pd.read_csv(r\"C:\\Users\\etudiant\\Desktop\\URCA M1 IA\\URCA M1 IA\\BDA\\Rec\\data\\Association-rules.csv\")\n",
    "df4.to_sql('association_rules', engine, if_exists='replace', index=False)"
   ]
  }
 ],
 "metadata": {
  "kernelspec": {
   "display_name": "Python 3",
   "language": "python",
   "name": "python3"
  },
  "language_info": {
   "codemirror_mode": {
    "name": "ipython",
    "version": 3
   },
   "file_extension": ".py",
   "mimetype": "text/x-python",
   "name": "python",
   "nbconvert_exporter": "python",
   "pygments_lexer": "ipython3",
   "version": "3.10.0"
  }
 },
 "nbformat": 4,
 "nbformat_minor": 2
}
